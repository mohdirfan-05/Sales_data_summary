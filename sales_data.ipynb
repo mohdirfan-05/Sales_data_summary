{
  "nbformat": 4,
  "nbformat_minor": 0,
  "metadata": {
    "colab": {
      "provenance": []
    },
    "kernelspec": {
      "name": "python3",
      "display_name": "Python 3"
    },
    "language_info": {
      "name": "python"
    }
  },
  "cells": [
    {
      "cell_type": "code",
      "execution_count": 15,
      "metadata": {
        "colab": {
          "base_uri": "https://localhost:8080/",
          "height": 609
        },
        "id": "wJHCPmJevisL",
        "outputId": "9aabdec6-20f3-4e03-dcc0-761516be753b"
      },
      "outputs": [
        {
          "output_type": "stream",
          "name": "stdout",
          "text": [
            "Sales Summary:\n",
            "     product  total_quantity  revenue\n",
            "0   Keyboard               5    175.0\n",
            "1     Laptop               2   1400.0\n",
            "2    Moniter               3    450.0\n",
            "3      Mouse              10    200.0\n",
            "4  Use cable              15     75.0\n"
          ]
        },
        {
          "output_type": "display_data",
          "data": {
            "text/plain": [
              "<Figure size 640x480 with 1 Axes>"
            ],
            "image/png": "[encoded data removed]"
          },
          "metadata": {}
        }
      ],
      "source": [
        "# Import required libraries\n",
        "import sqlite3\n",
        "import pandas as pd\n",
        "import matplotlib.pyplot as plt\n",
        "\n",
        "# Connect to the SQLite database\n",
        "conn = sqlite3.connect(\"mydatabase.db\")\n",
        "\n",
        "# Run SQL query to get total quantity and revenue per product\n",
        "query = \"\"\"\n",
        "SELECT product,\n",
        "       SUM(quantity) AS total_quantity,\n",
        "       SUM(quantity * price) AS revenue\n",
        "FROM sales\n",
        "GROUP BY product\n",
        "\"\"\"\n",
        "\n",
        "# Load the query results into a pandas DataFrame\n",
        "df = pd.read_sql_query(query, conn)\n",
        "\n",
        "# Print the results\n",
        "print(\"Sales Summary:\")\n",
        "print(df)\n",
        "\n",
        "# Plot a bar chart of revenue per product\n",
        "df.plot(kind='bar', x='product', y='revenue', title='Revenue per Product')\n",
        "plt.ylabel('Revenue')\n",
        "plt.xlabel('Product')\n",
        "plt.tight_layout()\n",
        "\n",
        "# Save the chart\n",
        "plt.savefig(\"sales_chart.png\")\n",
        "\n",
        "# Close the database connection\n",
        "conn.close()"
      ]
    },
    {
      "cell_type": "code",
      "metadata": {
        "id": "9ce3f719"
      },
      "source": [
        "# Create the sales table and insert sample data\n",
        "conn = sqlite3.connect(\"mydatabase.db\")\n",
        "\n",
        "conn.execute(\"DROP TABLE IF EXISTS sales\") # Add this line to drop the table if it exists\n",
        "\n",
        "conn.execute('''\n",
        "CREATE TABLE sales\n",
        "             (product TEXT, quantity INTEGER, price REAL)\n",
        "''')\n",
        "\n",
        "conn.execute(\"INSERT INTO sales VALUES ('Laptop', 2, 700.00)\")\n",
        "conn.execute(\"INSERT INTO sales VALUES ('Mouse', 10, 20.00)\")\n",
        "conn.execute(\"INSERT INTO sales VALUES ('Moniter', 3, 150.00)\")\n",
        "conn.execute(\"INSERT INTO sales VALUES ('Keyboard',5, 35.00)\")\n",
        "conn.execute(\"INSERT INTO sales VALUES ('Use cable', 15, 5.00)\")\n",
        "\n",
        "conn.commit()\n",
        "conn.close()"
      ],
      "execution_count": 14,
      "outputs": []
    },
    {
      "cell_type": "code",
      "source": [
        "from google.colab import files\n",
        "files.download('sales_chart.png')"
      ],
      "metadata": {
        "colab": {
          "base_uri": "https://localhost:8080/",
          "height": 17
        },
        "id": "H96aU8Uw13oF",
        "outputId": "c2e170db-870c-40b1-b367-3711f4116743"
      },
      "execution_count": 16,
      "outputs": [
        {
          "output_type": "display_data",
          "data": {
            "text/plain": [
              "<IPython.core.display.Javascript object>"
            ],
            "application/javascript": [
              "\n",
              "    async function download(id, filename, size) {\n",
              "      if (!google.colab.kernel.accessAllowed) {\n",
              "        return;\n",
              "      }\n",
              "      const div = document.createElement('div');\n",
              "      const label = document.createElement('label');\n",
              "      label.textContent = `Downloading \"${filename}\": `;\n",
              "      div.appendChild(label);\n",
              "      const progress = document.createElement('progress');\n",
              "      progress.max = size;\n",
              "      div.appendChild(progress);\n",
              "      document.body.appendChild(div);\n",
              "\n",
              "      const buffers = [];\n",
              "      let downloaded = 0;\n",
              "\n",
              "      const channel = await google.colab.kernel.comms.open(id);\n",
              "      // Send a message to notify the kernel that we're ready.\n",
              "      channel.send({})\n",
              "\n",
              "      for await (const message of channel.messages) {\n",
              "        // Send a message to notify the kernel that we're ready.\n",
              "        channel.send({})\n",
              "        if (message.buffers) {\n",
              "          for (const buffer of message.buffers) {\n",
              "            buffers.push(buffer);\n",
              "            downloaded += buffer.byteLength;\n",
              "            progress.value = downloaded;\n",
              "          }\n",
              "        }\n",
              "      }\n",
              "      const blob = new Blob(buffers, {type: 'application/binary'});\n",
              "      const a = document.createElement('a');\n",
              "      a.href = window.URL.createObjectURL(blob);\n",
              "      a.download = filename;\n",
              "      div.appendChild(a);\n",
              "      a.click();\n",
              "      div.remove();\n",
              "    }\n",
              "  "
            ]
          },
          "metadata": {}
        },
        {
          "output_type": "display_data",
          "data": {
            "text/plain": [
              "<IPython.core.display.Javascript object>"
            ],
            "application/javascript": [
              "download(\"download_ec9c25ab-7832-4636-9fee-8df12fb0d92a\", \"sales_chart.png\", 21554)"
            ]
          },
          "metadata": {}
        }
      ]
    }
  ]
}